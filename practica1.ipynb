{
  "nbformat": 4,
  "nbformat_minor": 0,
  "metadata": {
    "colab": {
      "provenance": [],
      "authorship_tag": "ABX9TyMsXrzcly1MvZ0JQ/qYuIDK",
      "include_colab_link": true
    },
    "kernelspec": {
      "name": "python3",
      "display_name": "Python 3"
    },
    "language_info": {
      "name": "python"
    }
  },
  "cells": [
    {
      "cell_type": "markdown",
      "metadata": {
        "id": "view-in-github",
        "colab_type": "text"
      },
      "source": [
        "<a href=\"https://colab.research.google.com/github/yamilethpuente/unidad1/blob/main/practica1.ipynb\" target=\"_parent\"><img src=\"https://colab.research.google.com/assets/colab-badge.svg\" alt=\"Open In Colab\"/></a>"
      ]
    },
    {
      "cell_type": "markdown",
      "source": [
        "que es pandas en python?\n",
        "pandas es una libreria o biblioteca de python que se utiliza para trabajar con conjuntos de datos. tiene funciones para analizar, explorar y manipular datos.\n",
        "el nombre \"pandas\" hace referencia a panel data y python data fue creado en 2008\n",
        "¿por que utilizar pandas?\n",
        "panda nos permite analizar Big Data y sacar concucliones basadas en teorias estadisticas\n",
        "los pandas pueden limpiar conjuntos de datos desordenados y hacerlos lejibles\n",
        "y relevantes los datos relevanntes son muy importantes  en las ciencia de datos\n",
        "¿que podemos hacer con pandas?\n",
        "1. Saber si existe correlación entre dos o más columnas.\n",
        "2. ¿Cuál es el valor promedio?\n",
        "3. ¿Valor máximo?\n",
        "4. ¿Valor mínimo? Pandas también puede eliminar filas que no son relevantes o que contienen errores, como valores vacíos. Instalación de Pandas Si tienes Python y Pip ya instalado en el sistema, instálalo usando el siguiente comando. pip install pandas Si este comando falla, utiliza una distribucion de python que ya tenga pandas instalado.\n",
        " Una vez que hayas instalado Pandas, impórtalo a las aplicaciones agregando la palabra clave import pandas. Listo. Está importado y listo para usar. pandas as pd pandas as pd Crea un alias con la palabra AS al importar pandas. Ejemplo, import pandas as pd. Ahora el paquete pandas puede denominarse pd en lugar de pandas. Comprobando la versión de pandas. La cadena de la versión se almacena en el atributo __version__.\n",
        " Ejemplo, import pandas as pd.print  \n"
      ],
      "metadata": {
        "id": "29GYW9qoUFzz"
      }
    },
    {
      "cell_type": "code",
      "source": [
        "import pandas as pd\n"
      ],
      "metadata": {
        "id": "PBWltSrtZuO9"
      },
      "execution_count": 4,
      "outputs": []
    },
    {
      "cell_type": "markdown",
      "source": [
        " Ejercicio, ¿Cuál de las siguientes tres opciones es la biblioteca oficial de pandas?\n",
        " Número 1. import p.\n",
        " Número 2. import pandas.\n",
        " Número 3, import pan.\n",
        " Pandas serie. ¿Qué es una serie? Una serie de pandas es como una columna en una tabla. Es una matriz unidimensional que contiene datos de cualquier tipo.\n",
        " ejemplo:"
      ],
      "metadata": {
        "id": "7Ilh1V3jZ8Os"
      }
    },
    {
      "cell_type": "code",
      "source": [
        "import pandas as pd\n",
        "a=[1,7,2]\n",
        "myvar=pd.Series(a)\n",
        "print (myvar)"
      ],
      "metadata": {
        "colab": {
          "base_uri": "https://localhost:8080/"
        },
        "id": "7UVYUHQkY_UU",
        "outputId": "278493d1-a4f4-458e-e978-f909586eebae"
      },
      "execution_count": 2,
      "outputs": [
        {
          "output_type": "stream",
          "name": "stdout",
          "text": [
            "0    1\n",
            "1    7\n",
            "2    2\n",
            "dtype: int64\n"
          ]
        }
      ]
    },
    {
      "cell_type": "markdown",
      "source": [
        " Etiquetas. Si no se especifica nada más, los valores se etiquetan con su número de índice. El primer valor tiene el índice 0, el segundo valor tiene el índice 2 índice 1, etc. Esta etiqueta se puede utilizar para acceder a un valor específico. Ejemplo, devuelve el primer valor de la serie."
      ],
      "metadata": {
        "id": "Z5Zo5LGGZZWk"
      }
    },
    {
      "cell_type": "code",
      "source": [
        "print (myvar[0])"
      ],
      "metadata": {
        "colab": {
          "base_uri": "https://localhost:8080/"
        },
        "id": "vkKseSKyb9jl",
        "outputId": "e5c54a3e-1a37-4035-817f-82c0bec9623b"
      },
      "execution_count": 6,
      "outputs": [
        {
          "output_type": "stream",
          "name": "stdout",
          "text": [
            "1\n"
          ]
        }
      ]
    },
    {
      "cell_type": "markdown",
      "source": [
        " Crear etiquetas. Con el argumento índice podemos nombrar nuestras propias etiquetas. Ejemplo, crea tus propias etiquetas."
      ],
      "metadata": {
        "id": "kZ4zahoHcCqU"
      }
    },
    {
      "cell_type": "code",
      "source": [
        "mayor=pd.serie(a,index=([\"x\", \"y\", \"z\"]))"
      ],
      "metadata": {
        "colab": {
          "base_uri": "https://localhost:8080/",
          "height": 141
        },
        "id": "nzq7WcbKcGnz",
        "outputId": "d58a4cd4-2b19-4909-9e46-9024c5e6c8a2"
      },
      "execution_count": 9,
      "outputs": [
        {
          "output_type": "error",
          "ename": "AttributeError",
          "evalue": "module 'pandas' has no attribute 'serie'",
          "traceback": [
            "\u001b[0;31m---------------------------------------------------------------------------\u001b[0m",
            "\u001b[0;31mAttributeError\u001b[0m                            Traceback (most recent call last)",
            "\u001b[0;32m/tmp/ipython-input-1317221794.py\u001b[0m in \u001b[0;36m<cell line: 0>\u001b[0;34m()\u001b[0m\n\u001b[0;32m----> 1\u001b[0;31m \u001b[0mmayor\u001b[0m\u001b[0;34m=\u001b[0m\u001b[0mpd\u001b[0m\u001b[0;34m.\u001b[0m\u001b[0mserie\u001b[0m\u001b[0;34m(\u001b[0m\u001b[0ma\u001b[0m\u001b[0;34m,\u001b[0m\u001b[0mindex\u001b[0m\u001b[0;34m=\u001b[0m\u001b[0;34m(\u001b[0m\u001b[0;34m[\u001b[0m\u001b[0;34m\"x\"\u001b[0m\u001b[0;34m,\u001b[0m \u001b[0;34m\"y\"\u001b[0m\u001b[0;34m,\u001b[0m \u001b[0;34m\"z\"\u001b[0m\u001b[0;34m]\u001b[0m\u001b[0;34m)\u001b[0m\u001b[0;34m)\u001b[0m\u001b[0;34m\u001b[0m\u001b[0;34m\u001b[0m\u001b[0m\n\u001b[0m",
            "\u001b[0;31mAttributeError\u001b[0m: module 'pandas' has no attribute 'serie'"
          ]
        }
      ]
    },
    {
      "cell_type": "markdown",
      "source": [
        "Cuando hallamos, creado etiquetas, podemos acceder a un elemento haciendo referencia a su etiqueta. Ejemplo, devuelve el valor de y."
      ],
      "metadata": {
        "id": "8CROPbXUce_D"
      }
    },
    {
      "cell_type": "code",
      "source": [
        "print (myvar[\"y\"])"
      ],
      "metadata": {
        "id": "dAA6JdoXcunE"
      },
      "execution_count": null,
      "outputs": []
    },
    {
      "cell_type": "markdown",
      "source": [
        "Objetos, clave/valor. Podemos utilizar clave-valor como un diccionario al crear una serie."
      ],
      "metadata": {
        "id": "xxw8mvrJc1Ft"
      }
    },
    {
      "cell_type": "code",
      "source": [
        "import pantas as pdcalorias{\"dia1\",420,\"dia2\",380,\"dia3\",390}\n",
        "myvar=pd,senses (calorias)\n",
        "print (myvar)"
      ],
      "metadata": {
        "colab": {
          "base_uri": "https://localhost:8080/",
          "height": 106
        },
        "id": "AHl6VjX-fvYA",
        "outputId": "08c9e1d3-3b98-4623-a879-52dbf8a59569"
      },
      "execution_count": 12,
      "outputs": [
        {
          "output_type": "error",
          "ename": "SyntaxError",
          "evalue": "invalid syntax (ipython-input-4052090255.py, line 1)",
          "traceback": [
            "\u001b[0;36m  File \u001b[0;32m\"/tmp/ipython-input-4052090255.py\"\u001b[0;36m, line \u001b[0;32m1\u001b[0m\n\u001b[0;31m    import pantas as pdcalorias{\"dia1\",420,\"dia2\",380,\"dia3\",390}\u001b[0m\n\u001b[0m                               ^\u001b[0m\n\u001b[0;31mSyntaxError\u001b[0m\u001b[0;31m:\u001b[0m invalid syntax\n"
          ]
        }
      ]
    },
    {
      "cell_type": "markdown",
      "source": [
        " Las claves del diccionario se convierten en las etiquetas para solucionar elementos del diccionario. Utiliza el argumento índice y especifique el elemento que desea incluir en la serie. Ejemplo, crea una serie utilizando únicamente datos del día 1 y 2."
      ],
      "metadata": {
        "id": "_WOQy1Bdgif9"
      }
    },
    {
      "cell_type": "code",
      "source": [
        "myvar=pd.series(calorias.index=[\"dia1\",\"dia2\"])\n",
        "print (myvar)\n"
      ],
      "metadata": {
        "colab": {
          "base_uri": "https://localhost:8080/",
          "height": 106
        },
        "id": "JxcI8gx7hFsF",
        "outputId": "6c6e8dab-f6e3-4699-a0ce-27def9a89917"
      },
      "execution_count": 8,
      "outputs": [
        {
          "output_type": "error",
          "ename": "SyntaxError",
          "evalue": "expression cannot contain assignment, perhaps you meant \"==\"? (ipython-input-2884011309.py, line 1)",
          "traceback": [
            "\u001b[0;36m  File \u001b[0;32m\"/tmp/ipython-input-2884011309.py\"\u001b[0;36m, line \u001b[0;32m1\u001b[0m\n\u001b[0;31m    myvar=pd.series(calorias.index=[\"dia1\",\"dia2\"])\u001b[0m\n\u001b[0m                    ^\u001b[0m\n\u001b[0;31mSyntaxError\u001b[0m\u001b[0;31m:\u001b[0m expression cannot contain assignment, perhaps you meant \"==\"?\n"
          ]
        }
      ]
    },
    {
      "cell_type": "markdown",
      "source": [
        " Marcos de datos, guión, dataframes. Los conjuntos de datos en pandas pueden ser tablas multidimensionales llamadas dataframes. La serie es como una columna de dataframe en toda la tabla"
      ],
      "metadata": {
        "id": "9xiIDHPRhgfd"
      }
    },
    {
      "cell_type": "code",
      "source": [
        "data={\"calorias\":[420,380,390],\n",
        "      \"duration\":=[50,40,45]}\n",
        "myvar=pd.Dataframe(data)\n",
        "print (myvar)"
      ],
      "metadata": {
        "id": "VV_cSuWwhrPE"
      },
      "execution_count": null,
      "outputs": []
    }
  ]
}