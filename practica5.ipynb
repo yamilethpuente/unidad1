{
  "nbformat": 4,
  "nbformat_minor": 0,
  "metadata": {
    "colab": {
      "provenance": [],
      "authorship_tag": "ABX9TyM6jQ2M3i7lwlxdoZqHTZdJ",
      "include_colab_link": true
    },
    "kernelspec": {
      "name": "python3",
      "display_name": "Python 3"
    },
    "language_info": {
      "name": "python"
    }
  },
  "cells": [
    {
      "cell_type": "markdown",
      "metadata": {
        "id": "view-in-github",
        "colab_type": "text"
      },
      "source": [
        "<a href=\"https://colab.research.google.com/github/yamilethpuente/unidad1/blob/main/practica5.ipynb\" target=\"_parent\"><img src=\"https://colab.research.google.com/assets/colab-badge.svg\" alt=\"Open In Colab\"/></a>"
      ]
    },
    {
      "cell_type": "code",
      "execution_count": null,
      "metadata": {
        "id": "F03za7MV200i"
      },
      "outputs": [],
      "source": []
    },
    {
      "cell_type": "markdown",
      "source": [
        "de las siguientes listas con los valores 23,45,56,12,67,34,55,21\n",
        "calcula la mediana la media y la moda"
      ],
      "metadata": {
        "id": "kgZgDdrr28k8"
      }
    },
    {
      "cell_type": "code",
      "source": [
        "from statistics import mean\n",
        "\n",
        "numeros = [23, 45, 56, 12, 67, 34, 55, 21]\n",
        "\n",
        "resultado_media = mean(numeros)\n",
        "print (resultado_media)"
      ],
      "metadata": {
        "colab": {
          "base_uri": "https://localhost:8080/"
        },
        "id": "rGroxELV3Rr3",
        "outputId": "e38c9071-15e1-4598-99b8-b22af2d156a4"
      },
      "execution_count": 7,
      "outputs": [
        {
          "output_type": "stream",
          "name": "stdout",
          "text": [
            "39.125\n"
          ]
        }
      ]
    },
    {
      "cell_type": "markdown",
      "source": [
        "mediana"
      ],
      "metadata": {
        "id": "E9mybCJJ4Brp"
      }
    },
    {
      "cell_type": "code",
      "source": [
        "from statistics import median\n",
        "\n",
        "numeros = [23, 45, 56, 12, 67, 34, 55, 21]\n",
        "\n",
        "resultado_mediana = median(numeros)\n",
        "print (resultado_mediana)\n"
      ],
      "metadata": {
        "colab": {
          "base_uri": "https://localhost:8080/"
        },
        "id": "MH4f5m104Gnw",
        "outputId": "0f9f402b-69d7-40de-9257-efe705665802"
      },
      "execution_count": 10,
      "outputs": [
        {
          "output_type": "stream",
          "name": "stdout",
          "text": [
            "39.5\n"
          ]
        }
      ]
    },
    {
      "cell_type": "markdown",
      "source": [
        "la moda"
      ],
      "metadata": {
        "id": "IfDyItgO9eg-"
      }
    },
    {
      "cell_type": "code",
      "source": [
        "from statistics import mode\n",
        "\n",
        "numeros = [23, 45, 56, 12, 67, 34, 55, 21]\n",
        "resultado_moda = mode(numeros)\n",
        "print(resultado_moda)"
      ],
      "metadata": {
        "colab": {
          "base_uri": "https://localhost:8080/"
        },
        "id": "GQE8TLu09g2L",
        "outputId": "b1441353-b54e-48b8-c9a5-5340cd105b62"
      },
      "execution_count": 11,
      "outputs": [
        {
          "output_type": "stream",
          "name": "stdout",
          "text": [
            "23\n"
          ]
        }
      ]
    },
    {
      "cell_type": "markdown",
      "source": [],
      "metadata": {
        "id": "VR79k2rD-Psh"
      }
    },
    {
      "cell_type": "markdown",
      "source": [
        "de las siguientes listas con los valores 10, 20, 30, 40, 20, 50, 20\n",
        "calcula la mediana la media y la moda"
      ],
      "metadata": {
        "id": "L8sViWm--QKW"
      }
    },
    {
      "cell_type": "code",
      "source": [
        "from statistics import mean\n",
        "\n",
        "numeros = [10, 20, 30, 40, 20, 50, 20]\n",
        "media = mean(numeros)\n",
        "print(media)"
      ],
      "metadata": {
        "colab": {
          "base_uri": "https://localhost:8080/"
        },
        "id": "I0u3uueL-XuO",
        "outputId": "683571db-1a40-476e-819f-b561d6a32eae"
      },
      "execution_count": 12,
      "outputs": [
        {
          "output_type": "stream",
          "name": "stdout",
          "text": [
            "27.142857142857142\n"
          ]
        }
      ]
    },
    {
      "cell_type": "markdown",
      "source": [
        "la mediana"
      ],
      "metadata": {
        "id": "2wABe2nI-kHH"
      }
    },
    {
      "cell_type": "code",
      "source": [
        "from statistics import median\n",
        "\n",
        "numeros = [10, 20, 30, 40, 20, 50, 20]\n",
        "mediana = median(numeros)\n",
        "print(mediana)"
      ],
      "metadata": {
        "colab": {
          "base_uri": "https://localhost:8080/"
        },
        "outputId": "9d806be9-3980-4fb7-fc07-2b66a08fd039",
        "id": "DR3BVSYw-ryp"
      },
      "execution_count": 13,
      "outputs": [
        {
          "output_type": "stream",
          "name": "stdout",
          "text": [
            "20\n"
          ]
        }
      ]
    },
    {
      "cell_type": "markdown",
      "source": [
        "la moda"
      ],
      "metadata": {
        "id": "dtZNOFIA-5mb"
      }
    },
    {
      "cell_type": "code",
      "source": [
        "from statistics import mode\n",
        "\n",
        "numeros = [10, 20, 30, 40, 20, 50, 20]\n",
        "moda = mode(numeros)\n",
        "print(moda)"
      ],
      "metadata": {
        "colab": {
          "base_uri": "https://localhost:8080/"
        },
        "outputId": "11b010e5-e301-453b-9f09-d04b4a1a6e64",
        "id": "UOgolSQd_QdE"
      },
      "execution_count": 14,
      "outputs": [
        {
          "output_type": "stream",
          "name": "stdout",
          "text": [
            "20\n"
          ]
        }
      ]
    },
    {
      "cell_type": "markdown",
      "source": [
        "de las siguientes listas con los valores 10, 20, 30, 40, 50\n",
        "calcula la mediana la media y la moda"
      ],
      "metadata": {
        "id": "Zvv_DdH7_46U"
      }
    },
    {
      "cell_type": "code",
      "source": [
        "from statistics import mean\n",
        "\n",
        "numeros= [10, 20, 30, 40, 50]\n",
        "media = mean(numeros)\n",
        "print(media)"
      ],
      "metadata": {
        "colab": {
          "base_uri": "https://localhost:8080/"
        },
        "id": "i3lSDrp8AC1X",
        "outputId": "f4020499-a25c-440c-9a9b-7bbc520acd6d"
      },
      "execution_count": 16,
      "outputs": [
        {
          "output_type": "stream",
          "name": "stdout",
          "text": [
            "30\n"
          ]
        }
      ]
    },
    {
      "cell_type": "markdown",
      "source": [
        "mediana"
      ],
      "metadata": {
        "id": "HFp4A5aUAe8M"
      }
    },
    {
      "cell_type": "code",
      "source": [
        "from statistics import median\n",
        "\n",
        "numeros = [10, 20, 30, 40, 50]\n",
        "mediana = median(numeros)\n",
        "print(mediana)"
      ],
      "metadata": {
        "colab": {
          "base_uri": "https://localhost:8080/"
        },
        "id": "Ck0YEs2qAidP",
        "outputId": "55d18412-1a38-4a8b-f3f7-d160315f979b"
      },
      "execution_count": 17,
      "outputs": [
        {
          "output_type": "stream",
          "name": "stdout",
          "text": [
            "30\n"
          ]
        }
      ]
    },
    {
      "cell_type": "markdown",
      "source": [
        "la moda"
      ],
      "metadata": {
        "id": "r0u0r9KiAujx"
      }
    },
    {
      "cell_type": "code",
      "source": [
        "from statistics import mode\n",
        "\n",
        "numeros = [10, 20, 30, 40, 50]\n",
        "moda = mode(numeros)\n",
        "print(moda)"
      ],
      "metadata": {
        "colab": {
          "base_uri": "https://localhost:8080/"
        },
        "id": "SK_bUwtnA5aK",
        "outputId": "cf06c0b3-ac78-4e91-c6ef-4c2cc8154272"
      },
      "execution_count": 19,
      "outputs": [
        {
          "output_type": "stream",
          "name": "stdout",
          "text": [
            "10\n"
          ]
        }
      ]
    }
  ]
}