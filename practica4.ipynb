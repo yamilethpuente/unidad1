{
  "nbformat": 4,
  "nbformat_minor": 0,
  "metadata": {
    "colab": {
      "provenance": [],
      "authorship_tag": "ABX9TyOvCV0u9oyVIIwAhTCOjzp0",
      "include_colab_link": true
    },
    "kernelspec": {
      "name": "python3",
      "display_name": "Python 3"
    },
    "language_info": {
      "name": "python"
    }
  },
  "cells": [
    {
      "cell_type": "markdown",
      "metadata": {
        "id": "view-in-github",
        "colab_type": "text"
      },
      "source": [
        "<a href=\"https://colab.research.google.com/github/yamilethpuente/unidad1/blob/main/practica4.ipynb\" target=\"_parent\"><img src=\"https://colab.research.google.com/assets/colab-badge.svg\" alt=\"Open In Colab\"/></a>"
      ]
    },
    {
      "cell_type": "code",
      "execution_count": null,
      "metadata": {
        "id": "P4uRrD5mQ6uM"
      },
      "outputs": [],
      "source": []
    },
    {
      "cell_type": "markdown",
      "source": [
        "numpy indexacion de matrices acceder a elementos de una matriz de indexacion de matrices es lo mismo que acceder a un elemento de una matriz haciendo referencia a su numero de indice.\n",
        "\n",
        "los indices en las matrices numpy comienzan en 0, lo que significa que el primer elemento tiene indice 0 el segundo tiene indice de 1 el tercero tiene indice 2 etc.\n",
        "ejemplo: obtenga el primer elemento de la siguiente matriz"
      ],
      "metadata": {
        "id": "lq_sgDw6RQ2T"
      }
    },
    {
      "cell_type": "code",
      "source": [
        "import numpy as np\n",
        "arreglo=np.array([1,2,3,4,5])\n",
        "print (arreglo[0])"
      ],
      "metadata": {
        "colab": {
          "base_uri": "https://localhost:8080/"
        },
        "id": "0273M-ISTysj",
        "outputId": "1f28c81c-936c-4449-bc5b-73885d6eff9a"
      },
      "execution_count": 9,
      "outputs": [
        {
          "output_type": "stream",
          "name": "stdout",
          "text": [
            "1\n"
          ]
        }
      ]
    },
    {
      "cell_type": "markdown",
      "source": [
        "de la siguiente lista 6,7,8,9,10\n",
        "obtenga el elemento 3 y 4"
      ],
      "metadata": {
        "id": "RU3STI9sULg8"
      }
    },
    {
      "cell_type": "code",
      "source": [
        "import numpy as np\n",
        "arreglo=np.array([7,8,9,10])\n",
        "print(arreglo[2])\n",
        "print(arreglo[3])"
      ],
      "metadata": {
        "colab": {
          "base_uri": "https://localhost:8080/"
        },
        "id": "0_ewFEtUUS_a",
        "outputId": "12f7f68c-5e38-48cd-ee81-6c9f00434c6b"
      },
      "execution_count": 5,
      "outputs": [
        {
          "output_type": "stream",
          "name": "stdout",
          "text": [
            "9\n",
            "10\n"
          ]
        }
      ]
    },
    {
      "cell_type": "markdown",
      "source": [
        "acceder a matrices 2D para accedeer a elementos de matrices 2D\n",
        "podemos urilizar numeros enteros separados por comas que representan a numero de dimenciones y al indice del elemento pience en matrices 2D\n",
        "como una tabla con filas y columnas,donde la dimension representa la fila y el indice representa la columna\n",
        "lista 1.- 1,2,3,4,5\n",
        "lista 2.-5,6,7,8,9,10\n",
        "de matriz 2D accede al elemento de la primera fila y la siguiente columna"
      ],
      "metadata": {
        "id": "9ZRmqn2fUvp6"
      }
    },
    {
      "cell_type": "code",
      "source": [
        "import numpy as np\n",
        "arreglo=np.array ([[1, 2, 3, 4, 5], [6, 7, 8, 9, 10]])\n",
        "\n",
        "print(arreglo[0, 1])"
      ],
      "metadata": {
        "colab": {
          "base_uri": "https://localhost:8080/"
        },
        "id": "yqM8Z2hhWK9K",
        "outputId": "142296ec-88a9-4455-d48e-43647b2c24a8"
      },
      "execution_count": 8,
      "outputs": [
        {
          "output_type": "stream",
          "name": "stdout",
          "text": [
            "2\n"
          ]
        }
      ]
    }
  ]
}