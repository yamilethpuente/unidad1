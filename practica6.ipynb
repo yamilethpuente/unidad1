{
  "nbformat": 4,
  "nbformat_minor": 0,
  "metadata": {
    "colab": {
      "provenance": [],
      "authorship_tag": "ABX9TyObKP9oSTeoGbLrVBWRezdj",
      "include_colab_link": true
    },
    "kernelspec": {
      "name": "python3",
      "display_name": "Python 3"
    },
    "language_info": {
      "name": "python"
    }
  },
  "cells": [
    {
      "cell_type": "markdown",
      "metadata": {
        "id": "view-in-github",
        "colab_type": "text"
      },
      "source": [
        "<a href=\"https://colab.research.google.com/github/yamilethpuente/unidad1/blob/main/practica6.ipynb\" target=\"_parent\"><img src=\"https://colab.research.google.com/assets/colab-badge.svg\" alt=\"Open In Colab\"/></a>"
      ]
    },
    {
      "cell_type": "code",
      "execution_count": null,
      "metadata": {
        "id": "d4BpsOGCGpNq"
      },
      "outputs": [],
      "source": []
    },
    {
      "cell_type": "markdown",
      "source": [
        "yamileth puente uribe- 24 de septiembre de 2025 practica6- corta arreglos Numpy\n",
        "-----------------------------------------------------\n",
        "Slice en Python significa tomar elementos de un indice determinado a otro determinado indice\n",
        "pasamos el Slice en lugar del indice de esta manera:[start:end ]\n",
        "sino pasamos el inicio se concidera 0\n",
        "sino pasamos el final, su longuitud es conciderado"
      ],
      "metadata": {
        "id": "7ZtffK_eGzrR"
      }
    },
    {
      "cell_type": "code",
      "source": [
        "import numpy as np\n",
        "arreglo=np.array([1,2,3,4,5,6,7])\n",
        "print (arreglo[1:5])"
      ],
      "metadata": {
        "colab": {
          "base_uri": "https://localhost:8080/"
        },
        "id": "g-uKRoiYKcLg",
        "outputId": "4dc422d6-d872-4979-d9a1-4933f1d076fb"
      },
      "execution_count": 3,
      "outputs": [
        {
          "output_type": "stream",
          "name": "stdout",
          "text": [
            "[2 3 4 5]\n"
          ]
        }
      ]
    },
    {
      "cell_type": "markdown",
      "source": [
        "ejemplo 2\n",
        "(1,2,3,4,5,6,7)\n",
        "cortardel indice 4 hasta el final de la matriz\n",
        "-------------------------"
      ],
      "metadata": {
        "id": "jVegXzPQLPMY"
      }
    },
    {
      "cell_type": "code",
      "source": [
        "import numpy as np\n",
        "arreglo=np.array([1,2,3,4,5,6,7])\n",
        "print (arreglo[4:])"
      ],
      "metadata": {
        "colab": {
          "base_uri": "https://localhost:8080/"
        },
        "outputId": "a5f5bdef-d537-4da3-caba-95a58ce724af",
        "id": "6TrohgvDLe0I"
      },
      "execution_count": 4,
      "outputs": [
        {
          "output_type": "stream",
          "name": "stdout",
          "text": [
            "[5 6 7]\n"
          ]
        }
      ]
    },
    {
      "cell_type": "markdown",
      "source": [
        "ejemplo 3 ([1,2,3,4,5,6,7])\n",
        "cortarelementos desde el principio hasta el indice 5"
      ],
      "metadata": {
        "id": "DaIzuJPgMIcQ"
      }
    },
    {
      "cell_type": "code",
      "source": [
        "import numpy as np\n",
        "arreglo=np.array([1,2,3,4,5,6,7])\n",
        "print (arreglo[:5])"
      ],
      "metadata": {
        "colab": {
          "base_uri": "https://localhost:8080/"
        },
        "outputId": "48e8a13c-bde0-41c8-a157-beced0448c0c",
        "id": "rFioL1WAMgun"
      },
      "execution_count": 5,
      "outputs": [
        {
          "output_type": "stream",
          "name": "stdout",
          "text": [
            "[1 2 3 4 5]\n"
          ]
        }
      ]
    },
    {
      "cell_type": "markdown",
      "source": [
        "ejemplo 4 ([1,2,3,4,5,6,7])\n",
        "corte negativo.utilizamos el operador \"menos\" para hacer referencia a un indicedesde el final\n",
        "---------------------------------------\n",
        "cortar del indice 3 hasta el final el indice 1 desde el final"
      ],
      "metadata": {
        "id": "FCXv2eKYM3wp"
      }
    },
    {
      "cell_type": "code",
      "source": [
        "import numpy as np\n",
        "arreglo=np.array([1,2,3,4,5,6,7])\n",
        "print (arreglo[-3:-1])"
      ],
      "metadata": {
        "colab": {
          "base_uri": "https://localhost:8080/"
        },
        "outputId": "7afddd78-7ff3-47d3-dd5d-0904a6d6f304",
        "id": "D_bCjaY0NhQs"
      },
      "execution_count": 6,
      "outputs": [
        {
          "output_type": "stream",
          "name": "stdout",
          "text": [
            "[5 6]\n"
          ]
        }
      ]
    }
  ]
}