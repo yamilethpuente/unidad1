{
  "nbformat": 4,
  "nbformat_minor": 0,
  "metadata": {
    "colab": {
      "provenance": [],
      "authorship_tag": "ABX9TyND/feN9OtD00DzLBLUXoqe",
      "include_colab_link": true
    },
    "kernelspec": {
      "name": "python3",
      "display_name": "Python 3"
    },
    "language_info": {
      "name": "python"
    }
  },
  "cells": [
    {
      "cell_type": "markdown",
      "metadata": {
        "id": "view-in-github",
        "colab_type": "text"
      },
      "source": [
        "<a href=\"https://colab.research.google.com/github/yamilethpuente/unidad1/blob/main/numpy.ipynb\" target=\"_parent\"><img src=\"https://colab.research.google.com/assets/colab-badge.svg\" alt=\"Open In Colab\"/></a>"
      ]
    },
    {
      "cell_type": "code",
      "execution_count": null,
      "metadata": {
        "id": "6u3GtuCWjKVO"
      },
      "outputs": [],
      "source": []
    },
    {
      "cell_type": "markdown",
      "source": [
        "numPy es una libreria de python\n",
        "numPy se utiliza para trabajar con matrices o arreglos\n",
        "numPy es la abreviatura de \"python numerico\"\n",
        "tambien tiene funciones para trabajar en el dominio de algebra lineal, la transformada y las matrices\n",
        "en Python tenemos listas que sirven como matrices pero son lentas de procesar.\n",
        "numPy tiene como objetivo proporcionar un objeto de matriz que sea 50 veces mas rapido que las listas tradicionales."
      ],
      "metadata": {
        "id": "4PIjGWmjjN1D"
      }
    },
    {
      "cell_type": "code",
      "source": [
        "#primero tenemos que importar la libreria\n",
        "import numpy\n",
        "\n",
        "arreglo=numpy.array([1,2,3,4,5])\n",
        "print ( arreglo)"
      ],
      "metadata": {
        "colab": {
          "base_uri": "https://localhost:8080/"
        },
        "id": "XAUF-NedlHJT",
        "outputId": "b371b55d-9792-4a80-b7e1-f01987e01e27"
      },
      "execution_count": 6,
      "outputs": [
        {
          "output_type": "stream",
          "name": "stdout",
          "text": [
            "[1 2 3 4 5]\n"
          ]
        }
      ]
    },
    {
      "cell_type": "markdown",
      "source": [
        "numPy como np\n",
        "numPy generalmente se importa bajo el alias np. python los alias son un nombre alternativo para referirse a la misma cosa"
      ],
      "metadata": {
        "id": "HXeoi8kjmLP7"
      }
    },
    {
      "cell_type": "code",
      "source": [
        "import numpy as np\n",
        "arreglo=np.array([6,7,8,9,10])\n",
        "print (arreglo)"
      ],
      "metadata": {
        "colab": {
          "base_uri": "https://localhost:8080/"
        },
        "id": "aeCl6a7_mkQi",
        "outputId": "6f2d1d8c-e918-4683-f367-ed0bfd7dea8f"
      },
      "execution_count": 7,
      "outputs": [
        {
          "output_type": "stream",
          "name": "stdout",
          "text": [
            "[ 6  7  8  9 10]\n"
          ]
        }
      ]
    },
    {
      "cell_type": "markdown",
      "source": [
        "comprobando la version de numPy la cadena de la version se almacena en el atributo __version__"
      ],
      "metadata": {
        "id": "Gtb8pe3knjDL"
      }
    },
    {
      "cell_type": "code",
      "source": [
        "import numpy as np\n",
        "print (np.__version__)"
      ],
      "metadata": {
        "colab": {
          "base_uri": "https://localhost:8080/"
        },
        "id": "099b02HRn3Hr",
        "outputId": "5258b220-0cc2-4a25-f5d9-90e17397d97c"
      },
      "execution_count": 5,
      "outputs": [
        {
          "output_type": "stream",
          "name": "stdout",
          "text": [
            "2.0.2\n"
          ]
        }
      ]
    },
    {
      "cell_type": "markdown",
      "source": [
        "numPy creando matrices\n",
        "crear un objeto se utiliza para trabajar con matrices.\n",
        "el objeto de matriz se llama ndarray.\n",
        "podemos crear un numPy ndarray utilizando la funcion array()"
      ],
      "metadata": {
        "id": "NcqtcWBGoQzi"
      }
    },
    {
      "cell_type": "code",
      "source": [
        "import numpy as np\n",
        "arreglo=np.array([\"yamileth\",\"ana\",\"kimberly\",\"yazmin\"])\n",
        "print (arreglo)\n",
        "print (type(arreglo))"
      ],
      "metadata": {
        "colab": {
          "base_uri": "https://localhost:8080/"
        },
        "id": "U5of4j3EpOTa",
        "outputId": "38eb228f-af33-4fcb-b304-b10f34507bb9"
      },
      "execution_count": 10,
      "outputs": [
        {
          "output_type": "stream",
          "name": "stdout",
          "text": [
            "['yamileth' 'ana' 'kimberly' 'yazmin']\n",
            "<class 'numpy.ndarray'>\n"
          ]
        }
      ]
    },
    {
      "cell_type": "markdown",
      "source": [
        "dimenciones de matrices\n",
        "una dimencion en matrices es un nivel\n",
        "de profundidad de matriz (matrices anidadas)\n",
        "una matriz anidada contiene matrices como elementos\n",
        "matrices 0-D. son elementos de una matriz. cada valor de una matriz es una matriz 0-D.ejemplo: crea una matriz 0-Dcon un valor de 42"
      ],
      "metadata": {
        "id": "71wllAHVqOdC"
      }
    },
    {
      "cell_type": "code",
      "source": [
        "import numpy as np\n",
        "\n",
        "arreglo=np.array(42)\n",
        "print (arreglo)"
      ],
      "metadata": {
        "colab": {
          "base_uri": "https://localhost:8080/"
        },
        "id": "bpusng2PrEHL",
        "outputId": "3d61df6a-0d08-42cc-a0d8-472fe8dbd03a"
      },
      "execution_count": 12,
      "outputs": [
        {
          "output_type": "stream",
          "name": "stdout",
          "text": [
            "42\n"
          ]
        }
      ]
    },
    {
      "cell_type": "markdown",
      "source": [
        "matrices 1-D\n",
        "una matriz que tiene matrices 0-D como elementos se denomina matriz unidimencional o 1-D estas son las matrices mas comunes y basicas.\n",
        "ejemplo: crea una matriz de 1-D que tenga los valores 1,2,3,4,5"
      ],
      "metadata": {
        "id": "jBi1k4CjsU-U"
      }
    },
    {
      "cell_type": "code",
      "source": [
        "import numpy as np\n",
        "arreglo=np.array ([1,2,3,4,5])\n",
        "print (arreglo)"
      ],
      "metadata": {
        "colab": {
          "base_uri": "https://localhost:8080/"
        },
        "id": "a0U73IJMtjWN",
        "outputId": "8cdb792a-7f74-45df-a6fb-dd2642030a27"
      },
      "execution_count": 13,
      "outputs": [
        {
          "output_type": "stream",
          "name": "stdout",
          "text": [
            "[1 2 3 4 5]\n"
          ]
        }
      ]
    },
    {
      "cell_type": "markdown",
      "source": [
        "matrices 2D\n",
        "una matriz que tiene matrices 1-D como elementos se denomina matris 2-D\n",
        "a menudo se utilizan para representar matrices de segundo orden. NumPy tiene un submodulo completo dedicado a operaciones com matrices llamado numPy.mat.\n",
        "ejemplo:crea una matriz de 2D que contenga dos matrices con los valores 123 y 456."
      ],
      "metadata": {
        "id": "fWN-lslEtwoE"
      }
    },
    {
      "cell_type": "code",
      "source": [
        "import numpy as np\n",
        "arreglo=np.array([[1,2,3],[4,5,6]])\n",
        "print(arreglo)"
      ],
      "metadata": {
        "colab": {
          "base_uri": "https://localhost:8080/"
        },
        "id": "yuhk-nFeupvk",
        "outputId": "ae1c4e28-b67e-4684-af45-f225958f3aee"
      },
      "execution_count": 15,
      "outputs": [
        {
          "output_type": "stream",
          "name": "stdout",
          "text": [
            "[[1 2 3]\n",
            " [4 5 6]]\n"
          ]
        }
      ]
    },
    {
      "cell_type": "markdown",
      "source": [
        "matrices 3D\n",
        "una matriz que tiene matrices 2D se denomina matriz 3D.\n",
        "estas matrices se utilizan para representar una matriz de tercer orden.\n",
        "ejemplo: crea una matriz 3D con dos matrices bidimencionales, ambas conteniendo dos matrices con los valores 1,2,3 y 4,5,6"
      ],
      "metadata": {
        "id": "zX_Rywrqvekl"
      }
    },
    {
      "cell_type": "code",
      "source": [
        "import numpy as np\n",
        "arreglo=np.array ([[[1,2,3],[4,5,6]],[[1,2,3],[4,5,6]]])\n",
        "print (arreglo)"
      ],
      "metadata": {
        "colab": {
          "base_uri": "https://localhost:8080/"
        },
        "id": "4B1FeIoiwQvF",
        "outputId": "a5bcbc93-108c-486e-ed60-5025f52bfe74"
      },
      "execution_count": 17,
      "outputs": [
        {
          "output_type": "stream",
          "name": "stdout",
          "text": [
            "[[[1 2 3]\n",
            "  [4 5 6]]\n",
            "\n",
            " [[1 2 3]\n",
            "  [4 5 6]]]\n"
          ]
        }
      ]
    }
  ]
}