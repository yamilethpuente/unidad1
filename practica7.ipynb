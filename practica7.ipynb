{
  "nbformat": 4,
  "nbformat_minor": 0,
  "metadata": {
    "colab": {
      "provenance": [],
      "authorship_tag": "ABX9TyP4E1SxYuyBHGns0z9sa3bG",
      "include_colab_link": true
    },
    "kernelspec": {
      "name": "python3",
      "display_name": "Python 3"
    },
    "language_info": {
      "name": "python"
    }
  },
  "cells": [
    {
      "cell_type": "markdown",
      "metadata": {
        "id": "view-in-github",
        "colab_type": "text"
      },
      "source": [
        "<a href=\"https://colab.research.google.com/github/yamilethpuente/unidad1/blob/main/practica7.ipynb\" target=\"_parent\"><img src=\"https://colab.research.google.com/assets/colab-badge.svg\" alt=\"Open In Colab\"/></a>"
      ]
    },
    {
      "cell_type": "code",
      "execution_count": null,
      "metadata": {
        "id": "KU7dcpnfFSkh"
      },
      "outputs": [],
      "source": [
        " yamileth puente uribe- practica 7 - 25 de sep 2025\n",
        " -------------------------------------------\n",
        " slicing Numpy\n",
        " ------------------------------------------\n",
        " utilice  STEP para determinarel paso del corte:\n",
        " ejemplo:([1,2,3,4,5,6,7]) - devuelve todos los elementos del indice 1 al indice\n",
        " 5"
      ]
    },
    {
      "cell_type": "code",
      "source": [
        "import numpy as np\n",
        "arreglo= np.array([1,2,3,4,5,6,7])\n",
        "print (arreglo[1:5:2])"
      ],
      "metadata": {
        "colab": {
          "base_uri": "https://localhost:8080/"
        },
        "id": "laacV_eCIMTA",
        "outputId": "62fc1043-5ab0-491d-80ea-a7b9584f5d03"
      },
      "execution_count": 2,
      "outputs": [
        {
          "output_type": "stream",
          "name": "stdout",
          "text": [
            "[2 4]\n"
          ]
        }
      ]
    },
    {
      "cell_type": "markdown",
      "source": [
        "ejemplo 2: ([1,2,3,4,5,6,7])\n",
        "devuelve los elementos de la matriz"
      ],
      "metadata": {
        "id": "zZ-dtYTXIw-X"
      }
    },
    {
      "cell_type": "code",
      "source": [
        "import numpy as np\n",
        "arreglo= np.array([1,2,3,4,5,6,7])\n",
        "print (arreglo[::2])"
      ],
      "metadata": {
        "colab": {
          "base_uri": "https://localhost:8080/"
        },
        "outputId": "78c06267-cc28-4853-a252-977d85abab27",
        "id": "qAffHfaHJDSY"
      },
      "execution_count": 3,
      "outputs": [
        {
          "output_type": "stream",
          "name": "stdout",
          "text": [
            "[1 3 5 7]\n"
          ]
        }
      ]
    },
    {
      "cell_type": "markdown",
      "source": [
        "slice de matrices 2D\n",
        "---------------------\n",
        "ejemplo:([[1,2,3,4,5],[6,7,8,9,10]])\n",
        "del segundo elemento, corte del indice 1 al indice 4"
      ],
      "metadata": {
        "id": "esCtD3SYJv2m"
      }
    },
    {
      "cell_type": "code",
      "source": [
        "import numpy as np\n",
        "arreglo= np.array([[1,2,3,4,5],[6,7,8,9,10]])\n",
        "print (arreglo[1,1:4])"
      ],
      "metadata": {
        "colab": {
          "base_uri": "https://localhost:8080/"
        },
        "outputId": "6bc7c827-4265-4aa0-afe8-57d900dabbe8",
        "id": "4eMh5SYsLhzO"
      },
      "execution_count": 4,
      "outputs": [
        {
          "output_type": "stream",
          "name": "stdout",
          "text": [
            "[7 8 9]\n"
          ]
        }
      ]
    },
    {
      "cell_type": "markdown",
      "source": [
        "ejemplo 4:([[1,2,3,4,5],[6,7,8,9,10]])\n",
        "de ambos elementos, devuelve el indice 2"
      ],
      "metadata": {
        "id": "2TGUXVIKNGa_"
      }
    },
    {
      "cell_type": "code",
      "source": [
        "import numpy as np\n",
        "arreglo= np.array([[1,2,3,4,5],[6,7,8,9,10]])\n",
        "print (arreglo[0:2,2])"
      ],
      "metadata": {
        "colab": {
          "base_uri": "https://localhost:8080/"
        },
        "outputId": "3fe89945-75d2-4110-d7e0-977c5590d7ba",
        "id": "h0eHvpeeNjUo"
      },
      "execution_count": 5,
      "outputs": [
        {
          "output_type": "stream",
          "name": "stdout",
          "text": [
            "[3 8]\n"
          ]
        }
      ]
    },
    {
      "cell_type": "markdown",
      "source": [
        "ejemplo 5:([[1,2,3,4,5],[6,7,8,9,10]])\n",
        "de ambos elementos,corta el indice 4"
      ],
      "metadata": {
        "id": "uQGM-Zz0OIf9"
      }
    },
    {
      "cell_type": "code",
      "source": [
        "import numpy as np\n",
        "arreglo= np.array([[1,2,3,4,5],[6,7,8,9,10]])\n",
        "print (arreglo[0:2, 1:4])"
      ],
      "metadata": {
        "colab": {
          "base_uri": "https://localhost:8080/"
        },
        "outputId": "c33eaf4e-c193-421b-e9a7-4fe6e5e92dc8",
        "id": "XsXMHx_XOh8-"
      },
      "execution_count": 7,
      "outputs": [
        {
          "output_type": "stream",
          "name": "stdout",
          "text": [
            "[[2 3 4]\n",
            " [7 8 9]]\n"
          ]
        }
      ]
    },
    {
      "cell_type": "markdown",
      "source": [
        "ejercicio 1- autonomo\n",
        "del siguiente arreglo, cual es el resultado\n",
        "([1,2,3,4,5,6,7])\n",
        "corta del primer elemento al 6to  elemento con paso 2"
      ],
      "metadata": {
        "id": "VfZRDSBOPU5s"
      }
    },
    {
      "cell_type": "code",
      "source": [
        "import numpy as np\n",
        "arreglo= np.array([1,2,3,4,5,6,7])\n",
        "print (arreglo[0:6:2])"
      ],
      "metadata": {
        "colab": {
          "base_uri": "https://localhost:8080/"
        },
        "outputId": "4441cce7-f20d-4c25-c335-38ecc2296afe",
        "id": "FYWujzXqQXmJ"
      },
      "execution_count": 9,
      "outputs": [
        {
          "output_type": "stream",
          "name": "stdout",
          "text": [
            "[1 3 5]\n"
          ]
        }
      ]
    }
  ]
}