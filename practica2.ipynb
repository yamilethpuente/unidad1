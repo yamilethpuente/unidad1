{
  "nbformat": 4,
  "nbformat_minor": 0,
  "metadata": {
    "colab": {
      "provenance": [],
      "authorship_tag": "ABX9TyPehNOhAQ6yZGMmb/wIw9mP",
      "include_colab_link": true
    },
    "kernelspec": {
      "name": "python3",
      "display_name": "Python 3"
    },
    "language_info": {
      "name": "python"
    }
  },
  "cells": [
    {
      "cell_type": "markdown",
      "metadata": {
        "id": "view-in-github",
        "colab_type": "text"
      },
      "source": [
        "<a href=\"https://colab.research.google.com/github/yamilethpuente/unidad1/blob/main/practica2.ipynb\" target=\"_parent\"><img src=\"https://colab.research.google.com/assets/colab-badge.svg\" alt=\"Open In Colab\"/></a>"
      ]
    },
    {
      "cell_type": "code",
      "execution_count": null,
      "metadata": {
        "id": "RiHJQ_5zrWMK"
      },
      "outputs": [],
      "source": []
    },
    {
      "cell_type": "markdown",
      "source": [
        "practica 2\n",
        "yamileth puente uribe 5F\n",
        "fecha 09 de septiembre sw 2025\n",
        "-------------------------\n",
        "como verificar el numero de dimenciones.\n",
        "numpy proporciona el atributo ndin que devuelve un numero entero\n",
        "que nos dice cuantas dimenciones tiene una matriz\n",
        "------------------------\n",
        "ejemplo:comprueba de cuantas dimenciones son las siguientes matrices"
      ],
      "metadata": {
        "id": "3G_0oW22rZZr"
      }
    },
    {
      "cell_type": "code",
      "source": [
        "import numpy as np\n",
        "arregloA=np.array(42)\n",
        "arregloB=np.array([1,2,3,4,5])\n",
        "arregloC=np.array([[1,2,3],[4,5,6]])\n",
        "arregloD=np.array([[[1,2,3],[4,5,6]],[[1,2,3],[4,5,6]]])\n",
        "print(arregloA.ndim)\n",
        "print(arregloB.ndim)\n",
        "print(arregloC.ndim)\n",
        "print(arregloD.ndim)"
      ],
      "metadata": {
        "colab": {
          "base_uri": "https://localhost:8080/"
        },
        "id": "mOqR0orEsfzs",
        "outputId": "54ae8883-7213-4ef0-edf1-87fd018d68e2"
      },
      "execution_count": 1,
      "outputs": [
        {
          "output_type": "stream",
          "name": "stdout",
          "text": [
            "0\n",
            "1\n",
            "2\n",
            "3\n"
          ]
        }
      ]
    },
    {
      "cell_type": "markdown",
      "source": [
        "matrices de dimenciones superiores una matriz puede tener cualquier numero de dimenciones.cuando se crea la matriz,puede definir el numero de dimenciones utilizando el argumento ndmin\n",
        "ejemplo:crea una matriz con 5 dimenciones y verifica que tenga las 5 dimenciones\n",
        "-----------------------------------"
      ],
      "metadata": {
        "id": "fPTXPt8Qu6_l"
      }
    },
    {
      "cell_type": "code",
      "source": [
        "import numpy as np\n",
        "arreglo=np.array([1,2,3,4,5], ndmin=5)\n",
        "print (arreglo)\n",
        "print (\"numero de dimenciones:\",arreglo.ndim)"
      ],
      "metadata": {
        "colab": {
          "base_uri": "https://localhost:8080/"
        },
        "id": "4JcrU8bQwH10",
        "outputId": "327b3d36-e040-45ee-d9cd-46e27465da32"
      },
      "execution_count": 8,
      "outputs": [
        {
          "output_type": "stream",
          "name": "stdout",
          "text": [
            "[[[[[1 2 3 4 5]]]]]\n",
            "numero de dimenciones: 5\n"
          ]
        }
      ]
    },
    {
      "cell_type": "markdown",
      "source": [
        "ejercicio:\n",
        "conciderando la siguiente matriz\n",
        "arreglo=np.array([[1,2,3],[4,5,6]])\n",
        "cuantas dimenciones tiene?\n",
        "respuesta=2"
      ],
      "metadata": {
        "id": "e2XC9MMTyckh"
      }
    },
    {
      "cell_type": "markdown",
      "source": [
        "numpy indexacion de matrices acceder a elementos de una matriz la indenxacion de matrices es lo mismo que aceder a un elemento de una matriz haciendo referencia a su numero de indice. los indices en las matrices numpy comienza en 0, lo que significa que el primer elemento tiene el indice 0 y el segundo tiene el indice 1 etc.\n",
        "ejemplo:obtenga el primer elemento de la siguiente matriz.\n",
        "-------------------------------------------"
      ],
      "metadata": {
        "id": "EFr1Zhf7zYEX"
      }
    },
    {
      "cell_type": "markdown",
      "source": [
        "import numpy as np\n",
        "arreglo=np.array([1,2,3,4])\n",
        "print (arreglo[0])"
      ],
      "metadata": {
        "id": "TcwhmyJI1Fjt"
      }
    }
  ]
}