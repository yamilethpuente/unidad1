{
  "nbformat": 4,
  "nbformat_minor": 0,
  "metadata": {
    "colab": {
      "provenance": [],
      "authorship_tag": "ABX9TyMwX91654DHOhae6khoWUc/",
      "include_colab_link": true
    },
    "kernelspec": {
      "name": "python3",
      "display_name": "Python 3"
    },
    "language_info": {
      "name": "python"
    }
  },
  "cells": [
    {
      "cell_type": "markdown",
      "metadata": {
        "id": "view-in-github",
        "colab_type": "text"
      },
      "source": [
        "<a href=\"https://colab.research.google.com/github/yamilethpuente/unidad1/blob/main/Untitled0.ipynb\" target=\"_parent\"><img src=\"https://colab.research.google.com/assets/colab-badge.svg\" alt=\"Open In Colab\"/></a>"
      ]
    },
    {
      "cell_type": "code",
      "execution_count": null,
      "metadata": {
        "id": "wKJ1bQxSKYR1"
      },
      "outputs": [],
      "source": []
    },
    {
      "cell_type": "markdown",
      "source": [
        "1. Del las siguientes listas 1,2,3,4,5 y 6,7,8,9,10 ,Accede al elemento de la 2a fila, 5a columna"
      ],
      "metadata": {
        "id": "7jh6k60sKp0g"
      }
    },
    {
      "cell_type": "code",
      "source": [
        "import numpy as np\n",
        "\n",
        "matriz = np.array=([[1, 2, 3, 4, 5],[6, 7, 8, 9, 10]])\n",
        "\n",
        "elemento = matriz[1][4]\n",
        "\n",
        "print(\"en la fila 2  columna 5:\", elemento)"
      ],
      "metadata": {
        "colab": {
          "base_uri": "https://localhost:8080/"
        },
        "id": "azF6iMZnKrV4",
        "outputId": "cfeca04a-1747-43af-893a-c06ee0d68fef"
      },
      "execution_count": 31,
      "outputs": [
        {
          "output_type": "stream",
          "name": "stdout",
          "text": [
            "en la fila 2  columna 5: 10\n"
          ]
        }
      ]
    },
    {
      "cell_type": "markdown",
      "source": [
        "2. De las siguientes listas 1, 2, 3 -  4, 5, 6 - 7, 8, 9 y 10, 11, 12, Acceda al tercer elemento de la segunda matriz de la primera matriz"
      ],
      "metadata": {
        "id": "8pQYq9dmMKe2"
      }
    },
    {
      "cell_type": "code",
      "source": [
        "import numpy as np\n",
        "\n",
        "matriz = np.array=(([1, 2, 3],[4, 5, 6],[7, 8, 9],[10, 11, 12]))\n",
        "\n",
        "elemento=matriz [1][2]\n",
        "\n",
        "print(\"en la fila 2 columna :\",elemento)"
      ],
      "metadata": {
        "colab": {
          "base_uri": "https://localhost:8080/"
        },
        "id": "R01Jd0nWMVAm",
        "outputId": "6d24c4c6-079a-46fc-ee99-7f9c7808fac0"
      },
      "execution_count": 32,
      "outputs": [
        {
          "output_type": "stream",
          "name": "stdout",
          "text": [
            "en la fila 2 columna : 6\n"
          ]
        }
      ]
    }
  ]
}